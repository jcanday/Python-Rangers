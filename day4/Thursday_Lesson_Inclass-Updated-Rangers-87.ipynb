{
 "cells": [
  {
   "cell_type": "markdown",
   "metadata": {},
   "source": [
    "# User-Defined Functions & Scoping"
   ]
  },
  {
   "cell_type": "markdown",
   "metadata": {},
   "source": [
    "## Tasks Today:\n",
    "\n",
    "\n",
    "1) Functions <br>\n",
    " &nbsp;&nbsp;&nbsp;&nbsp; a) User-Defined vs. Built-In Functions <br>\n",
    " &nbsp;&nbsp;&nbsp;&nbsp; b) Accepting Parameters <br>\n",
    " &nbsp;&nbsp;&nbsp;&nbsp; c) Default Parameters <br>\n",
    " &nbsp;&nbsp;&nbsp;&nbsp; d) Making an Argument Optional <br>\n",
    " &nbsp;&nbsp;&nbsp;&nbsp; e) Keyword Arguments <br>\n",
    " &nbsp;&nbsp;&nbsp;&nbsp; f) Returning Values <br>\n",
    " &nbsp;&nbsp;&nbsp;&nbsp; g) *args <br>\n",
    " &nbsp;&nbsp;&nbsp;&nbsp; h) Docstring <br>\n",
    " &nbsp;&nbsp;&nbsp;&nbsp; i) Using a User Function in a Loop <br>\n",
    "2) Scope\n",
    "3) Creating more User-Defined functions "
   ]
  },
  {
   "cell_type": "markdown",
   "metadata": {},
   "source": [
    "\n",
    "## Functions"
   ]
  },
  {
   "cell_type": "markdown",
   "metadata": {},
   "source": [
    "##### User-Defined vs. Built-In Functions"
   ]
  },
  {
   "cell_type": "code",
   "execution_count": null,
   "metadata": {},
   "outputs": [],
   "source": [
    "#Built in Functions\n",
    "\n",
    "print(hello)"
   ]
  },
  {
   "cell_type": "markdown",
   "metadata": {},
   "source": [
    "##### Accepting Parameters"
   ]
  },
  {
   "cell_type": "code",
   "execution_count": null,
   "metadata": {
    "scrolled": true
   },
   "outputs": [],
   "source": [
    "#order matters\n",
    "#a variable can be any type of object\n",
    "\n",
    "first_name = \"john\"\n",
    "last_name = \"anday\"\n",
    "\n",
    "#positional arguments\n",
    "def print_full_name(first ,last)\n",
    "    return f\"last is {last}, first is {first}\"\n",
    "\n"
   ]
  },
  {
   "cell_type": "markdown",
   "metadata": {},
   "source": [
    "##### Default Parameters"
   ]
  },
  {
   "cell_type": "code",
   "execution_count": null,
   "metadata": {},
   "outputs": [],
   "source": [
    "#Default parameters must come after non-default \n",
    "\n",
    "def j"
   ]
  },
  {
   "cell_type": "code",
   "execution_count": null,
   "metadata": {},
   "outputs": [],
   "source": []
  },
  {
   "cell_type": "markdown",
   "metadata": {},
   "source": [
    "##### Making an Argument Optional"
   ]
  },
  {
   "cell_type": "code",
   "execution_count": null,
   "metadata": {},
   "outputs": [],
   "source": []
  },
  {
   "cell_type": "markdown",
   "metadata": {},
   "source": [
    "##### Keyword Arguments"
   ]
  },
  {
   "cell_type": "code",
   "execution_count": 2,
   "metadata": {},
   "outputs": [
    {
     "name": "stdout",
     "output_type": "stream",
     "text": [
      "Bruce's power is Money!\n"
     ]
    }
   ],
   "source": [
    "def print_hero(name, power= 'flying'):\n",
    "    return f\"{name}'s power is {power}!\"\n",
    "\n",
    "print(print_hero(power = \"Money\", name = \"Bruce\"))"
   ]
  },
  {
   "cell_type": "code",
   "execution_count": 4,
   "metadata": {},
   "outputs": [
    {
     "name": "stdout",
     "output_type": "stream",
     "text": [
      "You ordered 1 coffee, with 5 sugar and whole milk\n"
     ]
    }
   ],
   "source": [
    "# Create a function that takes at least 1 positional argument, 1 optional argument, 1 default argument\n",
    "\n",
    "def make_coffee(sugar ,roast = \"\" , creamer = \"whole milk\" ):\n",
    "    return f\"You ordered 1 {roast}coffee, with {sugar} sugar and {creamer}\"\n",
    "\n",
    "print(make_coffee(\"5\"))\n",
    "    "
   ]
  },
  {
   "cell_type": "markdown",
   "metadata": {},
   "source": [
    "# Creating a start, stop, step function"
   ]
  },
  {
   "cell_type": "code",
   "execution_count": 8,
   "metadata": {},
   "outputs": [
    {
     "name": "stdout",
     "output_type": "stream",
     "text": [
      "3\n",
      "5\n",
      "7\n",
      "9\n",
      "11\n"
     ]
    }
   ],
   "source": [
    "def my_range(stop, start = 0, step = 1):\n",
    "    for i in range(start,stop,step):\n",
    "        print(i)\n",
    "        \n",
    "my_range(12,3,2)"
   ]
  },
  {
   "cell_type": "markdown",
   "metadata": {},
   "source": [
    "##### Returning Values"
   ]
  },
  {
   "cell_type": "code",
   "execution_count": null,
   "metadata": {},
   "outputs": [],
   "source": []
  },
  {
   "cell_type": "markdown",
   "metadata": {},
   "source": [
    "##### *args / **kwargs (keyword arguments)"
   ]
  },
  {
   "cell_type": "code",
   "execution_count": 10,
   "metadata": {},
   "outputs": [
    {
     "name": "stdout",
     "output_type": "stream",
     "text": [
      "1\n",
      "(3, 27, 'icecream')\n",
      "{'names': ['John', 'Amanda'], 'subject': 'Python'}\n"
     ]
    }
   ],
   "source": [
    "# *args stands for arguments( **kwargs for keyword arguments) & takes any number of arguments as parameters\n",
    "# must be last if other arguments are present\n",
    "\n",
    "def print_args(num1, *args, **keywords):\n",
    "    print(num1)\n",
    "    print(args)\n",
    "    print(keywords)\n",
    "\n",
    "print_args(1,3,27,\"icecream\", names = [\"John\", \"Amanda\"] , subject = \"Python\")"
   ]
  },
  {
   "cell_type": "code",
   "execution_count": 23,
   "metadata": {},
   "outputs": [
    {
     "name": "stdout",
     "output_type": "stream",
     "text": [
      "1\n",
      "3\n",
      "27\n",
      "icecream\n",
      "names : ['John', 'Amanda']\n",
      "subject : Python\n"
     ]
    }
   ],
   "source": [
    "#write a function that acceps args and kwargs and loops over them to print each one out on a separate line.\n",
    "def print_kwargs(num1, *args, **keywords):\n",
    "    print(num1)\n",
    "    if args:\n",
    "        for things in args:\n",
    "            print(things)\n",
    "    if keywords:\n",
    "        for stuff,stuff_inside in keywords.items():\n",
    "            print(stuff,':',stuff_inside)\n",
    "print_kwargs(1,3,27,\"icecream\", names = [\"John\", \"Amanda\"] , subject = \"Python\")"
   ]
  },
  {
   "cell_type": "markdown",
   "metadata": {},
   "source": [
    "##### Docstring"
   ]
  },
  {
   "cell_type": "code",
   "execution_count": 30,
   "metadata": {},
   "outputs": [],
   "source": [
    "def print_names(list_1):\n",
    "    \"\"\"\n",
    "            print_names(list_1)\n",
    "            Function requires a list to be passed as a parameter\n",
    "            and will print the contents of the list. Expecting \n",
    "            a list of names(strings) to be passed.\n",
    "    \"\"\"\n",
    "    \n",
    "    for name in list_1:\n",
    "        print(name)\n",
    "        "
   ]
  },
  {
   "cell_type": "code",
   "execution_count": 32,
   "metadata": {},
   "outputs": [],
   "source": [
    "print_names?"
   ]
  },
  {
   "cell_type": "code",
   "execution_count": 31,
   "metadata": {},
   "outputs": [
    {
     "name": "stdout",
     "output_type": "stream",
     "text": [
      "Sylvester\n",
      "Tweeety\n"
     ]
    }
   ],
   "source": [
    "print_names(['Sylvester','Tweeety'])"
   ]
  },
  {
   "cell_type": "markdown",
   "metadata": {},
   "source": [
    "##### Using a User Function in a Loop"
   ]
  },
  {
   "cell_type": "code",
   "execution_count": 34,
   "metadata": {},
   "outputs": [
    {
     "name": "stdout",
     "output_type": "stream",
     "text": [
      "What do you want to do? Eat\n",
      "Your answer is: Eat\n",
      "Wanna quit? no\n",
      "What do you want to do? Cap\n",
      "Your answer is: Cap\n",
      "Wanna quit? quit\n",
      "What do you want to do? quit\n",
      "Your answer is: quit\n",
      "Wanna quit? yes\n"
     ]
    }
   ],
   "source": [
    "def printInput(answer):\n",
    "    print(f\"Your answer is: {answer}\")\n",
    "while True:\n",
    "    ask = input(\"What do you want to do? \")\n",
    "    \n",
    "    printInput(ask)\n",
    "          \n",
    "    response = input(\"Wanna quit? \")\n",
    "    if response.lower() == \"yes\":\n",
    "          break\n",
    "          "
   ]
  },
  {
   "cell_type": "markdown",
   "metadata": {},
   "source": [
    "## Function Exercises <br>\n",
    "### Exercise 1\n",
    "<p>Write a function that loops through a list of first_names and a list of last_names, combines the two and return a list of full_names</p>"
   ]
  },
  {
   "cell_type": "code",
   "execution_count": 51,
   "metadata": {},
   "outputs": [
    {
     "name": "stdout",
     "output_type": "stream",
     "text": [
      "['John Smith', 'Evan Smith', 'Jordan Williams', 'Max Bell']\n",
      "['John Smith', 'Evan Smith', 'Jordan Williams', 'Max Bell']\n"
     ]
    }
   ],
   "source": [
    "first_name = ['John', 'Evan', 'Jordan', 'Max']\n",
    "last_name = ['Smith', 'Smith', 'Williams', 'Bell']\n",
    "\n",
    "# Output: ['John Smith', 'Evan Smith', 'Jordan Williams', 'Max Bell']\n",
    "full_names = []\n",
    "for i in range(len(first_name)):\n",
    "    full_names.append(first_name[i] + \" \" + last_name[i])\n",
    "print(full_names)\n",
    "\n",
    "full_name = [full for i in range(len(first_name)) for full in [f\"{first_name[i]} {last_name[i]}\"]]\n",
    "print(full_name)\n",
    "                                                               \n",
    "        "
   ]
  },
  {
   "cell_type": "markdown",
   "metadata": {},
   "source": [
    "### Exercise 2\n",
    "Create a function that alters all values in the given list by subtracting 5 and then doubling them."
   ]
  },
  {
   "cell_type": "code",
   "execution_count": 62,
   "metadata": {},
   "outputs": [
    {
     "data": {
      "text/plain": [
       "[0, 10, 20, 30, -4]"
      ]
     },
     "execution_count": 62,
     "metadata": {},
     "output_type": "execute_result"
    }
   ],
   "source": [
    "input_list = [5,10,15,20,3]\n",
    "# output = [0,10,20,30,-4]\n",
    "# new_list = []\n",
    "# for i in input_list:\n",
    "#     i = (i - 5) * 2\n",
    "#     new_list.append(i)\n",
    "# # print(new_list)\n",
    "# def new_new_list(lst1):\n",
    "#     return [ x for i in lst1 for x in [(i-5)*2]]\n",
    "\n",
    "# new_new_list(input_list)\n",
    "\n",
    "def new_new_new_list(lst2):\n",
    "    return [(i-5)*2 for i in lst2]\n",
    "\n",
    "new_new_new_list(input_list)"
   ]
  },
  {
   "cell_type": "markdown",
   "metadata": {},
   "source": [
    "### Exercise 2.5\n",
    "\n",
    "Create a function that takes both a given list and another function (func). The function should return a list of items altered by the func. As an example, your func can subtract 5 and double each number"
   ]
  },
  {
   "cell_type": "code",
   "execution_count": 75,
   "metadata": {},
   "outputs": [
    {
     "data": {
      "text/plain": [
       "[0, 10, 20, 30, -4]"
      ]
     },
     "execution_count": 75,
     "metadata": {},
     "output_type": "execute_result"
    }
   ],
   "source": [
    "def inner_func(alist):\n",
    "    new_list = [(i-5)*2 for i in lst2]\n",
    "def list_changer(alist, func):\n",
    "    return new_list\n",
    "list_changer(input_list,inner_func)"
   ]
  },
  {
   "cell_type": "markdown",
   "metadata": {},
   "source": [
    "### Exercise 3\n",
    "Create a function that takes in a list of strings and filters out the strings that DO NOT contain vowels. "
   ]
  },
  {
   "cell_type": "code",
   "execution_count": 17,
   "metadata": {},
   "outputs": [
    {
     "data": {
      "text/plain": [
       "['Sheldon', 'Leonard', 'Amy']"
      ]
     },
     "execution_count": 17,
     "metadata": {},
     "output_type": "execute_result"
    }
   ],
   "source": [
    "string_list = ['Sheldon','Pnny','Leonard','Hwrd','Rj','Amy','Strt']\n",
    "# output = ['Sheldon','Leonard','Amy']\n",
    "\n",
    "# def no_vowel(lst):\n",
    "#     return [for i in lst if \"aeiouAEIOU\" in i]\n",
    "\n",
    "# no_vowel(string_list)\n",
    "\n",
    "def no_vowels(lst):\n",
    "    new_list = []\n",
    "    for name in lst:\n",
    "        for letter in name:\n",
    "            if letter in \"aeiouAEIOU\":\n",
    "                new_list.append(name)\n",
    "                break;\n",
    "    return new_list\n",
    "\n",
    "no_vowels(string_list)\n",
    "\n",
    "    \n",
    "    "
   ]
  },
  {
   "cell_type": "markdown",
   "metadata": {},
   "source": [
    "### Exercise 4\n",
    "Create a function that accepts a list as a parameter and returns a dictionary containing the list items as it's keys, and the number of times they appear in the list as the values"
   ]
  },
  {
   "cell_type": "code",
   "execution_count": 30,
   "metadata": {},
   "outputs": [
    {
     "data": {
      "text/plain": [
       "{'Harry': 3, 'Hermione': 2, 'Ron': 4, 'Dobby': 1, 'Draco': 1, 'Luna': 1}"
      ]
     },
     "execution_count": 30,
     "metadata": {},
     "output_type": "execute_result"
    }
   ],
   "source": [
    "example_list = [\"Harry\", 'Hermione','Harry','Ron','Dobby','Draco','Luna','Harry','Hermione','Ron','Ron','Ron']\n",
    "\n",
    "# output = {\n",
    "#     \"Harry\":3,\n",
    "#     \"Hermione\":2,\n",
    "#     \"Ron\":4,\n",
    "#     \"Dobby\":1,\n",
    "#     \"Draco\":1,\n",
    "#     \"Luna\": 1\n",
    "# }\n",
    "\n",
    "def dictionarizer(lst):\n",
    "    newdic = {}\n",
    "    for item in lst:\n",
    "        if item not in newdic:\n",
    "            newdic[item] = 1\n",
    "        else:\n",
    "            newdic[item] = newdic[item] + 1\n",
    "    return newdic\n",
    "    \n",
    "dictionarizer(example_list)\n",
    "\n",
    "# def dictionarizer2(lst):\n",
    "#     newnewdic = {}\n",
    "#     for name in lst:\n",
    "#         newnewdic[name] = lst.count(name)\n",
    "#     return newnewdic\n",
    "# dictionarizer2(example_list)\n",
    "\n",
    "def dictionarizer3(lst):\n",
    "    return {name: lst.count(name) for name in lst}\n",
    "\n",
    "dictionarizer3(example_list)\n"
   ]
  },
  {
   "cell_type": "markdown",
   "metadata": {},
   "source": [
    "\n",
    "\n",
    "## Scope <br>\n",
    "<p>Scope refers to the ability to access variables, different types of scope include:<br>a) Global<br>b) Function (local)<br>c) Class (local)</p>"
   ]
  },
  {
   "cell_type": "code",
   "execution_count": 117,
   "metadata": {},
   "outputs": [
    {
     "name": "stdout",
     "output_type": "stream",
     "text": [
      "3\n",
      "6\n"
     ]
    }
   ],
   "source": [
    "# placement of variable declaration matters\n",
    "\n",
    "number = 3 # Gloal Variable\n",
    "\n",
    "def myFunc():\n",
    "    num_3 = 6 # Local Function Variable\n",
    "    return num_3\n",
    "\n",
    "print(number)\n",
    "return_num = myFunc()\n",
    "print(return_num)"
   ]
  },
  {
   "cell_type": "markdown",
   "metadata": {},
   "source": [
    "# Homework Exercises"
   ]
  },
  {
   "cell_type": "markdown",
   "metadata": {},
   "source": [
    "## Exercise 1 <br>\n",
    "<p>Given a list as a parameter,write a function that returns a list of numbers that are less than ten</b></i></p><br>\n",
    "<p> For example: Say your input parameter to the function is [1,11,14,5,8,9]...Your output should [1,5,8,9]</p>"
   ]
  },
  {
   "cell_type": "code",
   "execution_count": 34,
   "metadata": {},
   "outputs": [
    {
     "data": {
      "text/plain": [
       "[1, 5, 8, 9]"
      ]
     },
     "execution_count": 34,
     "metadata": {},
     "output_type": "execute_result"
    }
   ],
   "source": [
    "# Use the following list - [1,11,14,5,8,9]\n",
    "\n",
    "l_1 = [1,11,14,5,8,9]\n",
    "\n",
    "def less_ten(lst):\n",
    "    return [num for num in lst if num < 10]\n",
    "less_ten(l_1)"
   ]
  },
  {
   "cell_type": "markdown",
   "metadata": {},
   "source": [
    "## Exercise 2 <br>\n",
    "<p>Write a function that takes in two lists and returns the two lists merged together and sorted<br>\n",
    "<b><i>Hint: You can use the .sort() method</i></b></p>"
   ]
  },
  {
   "cell_type": "code",
   "execution_count": 55,
   "metadata": {},
   "outputs": [
    {
     "data": {
      "text/plain": [
       "{1, 2, 3, 4, 5, 6, 7, 8, 10}"
      ]
     },
     "execution_count": 55,
     "metadata": {},
     "output_type": "execute_result"
    }
   ],
   "source": [
    "l_1 = [1,2,3,4,5,6]\n",
    "l_2 = [3,4,5,6,7,8,10]\n",
    "\n",
    "def mergersorter(list1,list2):\n",
    "    return sorted([*list1 , *list2])\n",
    "\n",
    "mergersorter(l_1,l_2)\n",
    "\n",
    "\n",
    "##this one only prints out each number once using set()\n",
    "def intersorter(list1,list2):\n",
    "    return sorted(set([*list1 , *list2]))\n",
    "\n",
    "mergersorter(l_1,l_2)\n",
    "\n",
    "intersorter(l_1,l_2)"
   ]
  },
  {
   "cell_type": "code",
   "execution_count": null,
   "metadata": {},
   "outputs": [],
   "source": []
  }
 ],
 "metadata": {
  "kernelspec": {
   "display_name": "Python 3 (ipykernel)",
   "language": "python",
   "name": "python3"
  },
  "language_info": {
   "codemirror_mode": {
    "name": "ipython",
    "version": 3
   },
   "file_extension": ".py",
   "mimetype": "text/x-python",
   "name": "python",
   "nbconvert_exporter": "python",
   "pygments_lexer": "ipython3",
   "version": "3.9.12"
  }
 },
 "nbformat": 4,
 "nbformat_minor": 2
}
